{
 "cells": [
  {
   "cell_type": "code",
   "execution_count": 1,
   "metadata": {},
   "outputs": [
    {
     "name": "stdout",
     "output_type": "stream",
     "text": [
      "Requirement already satisfied: requests in /home/jmarcos/anaconda3/lib/python3.6/site-packages\n",
      "Requirement already satisfied: giphypop in /home/jmarcos/anaconda3/lib/python3.6/site-packages\n",
      "Requirement already satisfied: googletrans in /home/jmarcos/anaconda3/lib/python3.6/site-packages\n",
      "Requirement already satisfied: chardet<3.1.0,>=3.0.2 in /home/jmarcos/anaconda3/lib/python3.6/site-packages (from requests)\n",
      "Requirement already satisfied: idna<2.7,>=2.5 in /home/jmarcos/anaconda3/lib/python3.6/site-packages (from requests)\n",
      "Requirement already satisfied: urllib3<1.23,>=1.21.1 in /home/jmarcos/anaconda3/lib/python3.6/site-packages (from requests)\n",
      "Requirement already satisfied: certifi>=2017.4.17 in /home/jmarcos/anaconda3/lib/python3.6/site-packages (from requests)\n",
      "\u001b[33mYou are using pip version 9.0.1, however version 10.0.1 is available.\n",
      "You should consider upgrading via the 'pip install --upgrade pip' command.\u001b[0m\n"
     ]
    }
   ],
   "source": [
    "!pip install requests giphypop googletrans"
   ]
  },
  {
   "cell_type": "code",
   "execution_count": 21,
   "metadata": {},
   "outputs": [
    {
     "name": "stderr",
     "output_type": "stream",
     "text": [
      "/home/jmarcos/anaconda3/lib/python3.6/site-packages/giphypop.py:241: UserWarning: You are using the giphy public api key. This should be used for testing only and may be deactivated in the future. See https://github.com/Giphy/GiphyAPI.\n",
      "  warnings.warn('You are using the giphy public api key. This '\n"
     ]
    }
   ],
   "source": [
    "import giphypop\n",
    "from IPython.core.display import display, HTML\n",
    "from googletrans import Translator\n",
    "g = giphypop.Giphy()\n",
    "translator = Translator()"
   ]
  },
  {
   "cell_type": "code",
   "execution_count": 22,
   "metadata": {
    "collapsed": true
   },
   "outputs": [],
   "source": [
    "minhasPalavras = ['Feliz aniversário']\n",
    "linguas = ['en','pt','de','it','ru','es','fr','ja']\n"
   ]
  },
  {
   "cell_type": "code",
   "execution_count": 27,
   "metadata": {},
   "outputs": [
    {
     "data": {
      "text/plain": [
       "63"
      ]
     },
     "execution_count": 27,
     "metadata": {},
     "output_type": "execute_result"
    }
   ],
   "source": [
    "f= open(\"parabenscarol.html\",\"w+\")\n",
    "f.write('<h1 align=\"center\">FELIZ ANIVERSÁRIO MINHA MENINA =]</h1><br/>\\n')"
   ]
  },
  {
   "cell_type": "code",
   "execution_count": 28,
   "metadata": {},
   "outputs": [
    {
     "data": {
      "text/html": [
       "<h1>Happy Birthday</h1>"
      ],
      "text/plain": [
       "<IPython.core.display.HTML object>"
      ]
     },
     "metadata": {},
     "output_type": "display_data"
    },
    {
     "name": "stderr",
     "output_type": "stream",
     "text": [
      "/home/jmarcos/anaconda3/lib/python3.6/site-packages/ipykernel_launcher.py:7: DeprecationWarning: generator 'Giphy.search' raised StopIteration\n",
      "  import sys\n"
     ]
    },
    {
     "data": {
      "text/html": [
       "<img src=\"https://media1.giphy.com/media/3ohhwmQ0xIg8W3pHd6/giphy.gif?cid=e1bb72ff5b4f2f414457792f55f52146\">"
      ],
      "text/plain": [
       "<IPython.core.display.HTML object>"
      ]
     },
     "metadata": {},
     "output_type": "display_data"
    },
    {
     "data": {
      "text/html": [
       "<img src=\"https://media1.giphy.com/media/3oEhn78T277GKAq6Gc/giphy.gif?cid=e1bb72ff5b4f2f414457792f55f52146\">"
      ],
      "text/plain": [
       "<IPython.core.display.HTML object>"
      ]
     },
     "metadata": {},
     "output_type": "display_data"
    },
    {
     "data": {
      "text/html": [
       "<img src=\"https://media0.giphy.com/media/SRO0ZwmImic0/giphy.gif?cid=e1bb72ff5b4f2f414457792f55f52146\">"
      ],
      "text/plain": [
       "<IPython.core.display.HTML object>"
      ]
     },
     "metadata": {},
     "output_type": "display_data"
    },
    {
     "data": {
      "text/html": [
       "<img src=\"https://media2.giphy.com/media/yoJC2GnSClbPOkV0eA/giphy.gif?cid=e1bb72ff5b4f2f414457792f55f52146\">"
      ],
      "text/plain": [
       "<IPython.core.display.HTML object>"
      ]
     },
     "metadata": {},
     "output_type": "display_data"
    },
    {
     "data": {
      "text/html": [
       "<img src=\"https://media1.giphy.com/media/3o7btXcqzgqhqJoH9m/giphy.gif?cid=e1bb72ff5b4f2f414457792f55f52146\">"
      ],
      "text/plain": [
       "<IPython.core.display.HTML object>"
      ]
     },
     "metadata": {},
     "output_type": "display_data"
    },
    {
     "data": {
      "text/html": [
       "<img src=\"https://media1.giphy.com/media/Sd8uqMJqpGpP2/giphy.gif?cid=e1bb72ff5b4f2f414457792f55f52146\">"
      ],
      "text/plain": [
       "<IPython.core.display.HTML object>"
      ]
     },
     "metadata": {},
     "output_type": "display_data"
    },
    {
     "data": {
      "text/html": [
       "<img src=\"https://media1.giphy.com/media/Ymm8vnWUiN6yk/giphy.gif?cid=e1bb72ff5b4f2f414457792f55f52146\">"
      ],
      "text/plain": [
       "<IPython.core.display.HTML object>"
      ]
     },
     "metadata": {},
     "output_type": "display_data"
    },
    {
     "data": {
      "text/html": [
       "<img src=\"https://media1.giphy.com/media/26xBFJw7ddNReWaI0/giphy.gif?cid=e1bb72ff5b4f2f414457792f55f52146\">"
      ],
      "text/plain": [
       "<IPython.core.display.HTML object>"
      ]
     },
     "metadata": {},
     "output_type": "display_data"
    },
    {
     "data": {
      "text/html": [
       "<img src=\"https://media0.giphy.com/media/l0HlA79ev7edtBtLy/giphy.gif?cid=e1bb72ff5b4f2f414457792f55f52146\">"
      ],
      "text/plain": [
       "<IPython.core.display.HTML object>"
      ]
     },
     "metadata": {},
     "output_type": "display_data"
    },
    {
     "data": {
      "text/html": [
       "<img src=\"https://media0.giphy.com/media/26BRxeLkRqmzttSxy/giphy.gif?cid=e1bb72ff5b4f2f414457792f55f52146\">"
      ],
      "text/plain": [
       "<IPython.core.display.HTML object>"
      ]
     },
     "metadata": {},
     "output_type": "display_data"
    },
    {
     "data": {
      "text/html": [
       "<h1>Feliz aniversário</h1>"
      ],
      "text/plain": [
       "<IPython.core.display.HTML object>"
      ]
     },
     "metadata": {},
     "output_type": "display_data"
    },
    {
     "data": {
      "text/html": [
       "<img src=\"https://media2.giphy.com/media/3og0IFlGzbfNRF6DbW/giphy.gif?cid=e1bb72ff5b4f2efb375959552ecb3618\">"
      ],
      "text/plain": [
       "<IPython.core.display.HTML object>"
      ]
     },
     "metadata": {},
     "output_type": "display_data"
    },
    {
     "data": {
      "text/html": [
       "<img src=\"https://media1.giphy.com/media/wlXJzjGu2ep2M/giphy.gif?cid=e1bb72ff5b4f2efb375959552ecb3618\">"
      ],
      "text/plain": [
       "<IPython.core.display.HTML object>"
      ]
     },
     "metadata": {},
     "output_type": "display_data"
    },
    {
     "data": {
      "text/html": [
       "<img src=\"https://media3.giphy.com/media/tvjKUVpWQtuUw/giphy.gif?cid=e1bb72ff5b4f2efb375959552ecb3618\">"
      ],
      "text/plain": [
       "<IPython.core.display.HTML object>"
      ]
     },
     "metadata": {},
     "output_type": "display_data"
    },
    {
     "data": {
      "text/html": [
       "<img src=\"https://media3.giphy.com/media/11LbyBrT3XCeic/giphy.gif?cid=e1bb72ff5b4f2efb375959552ecb3618\">"
      ],
      "text/plain": [
       "<IPython.core.display.HTML object>"
      ]
     },
     "metadata": {},
     "output_type": "display_data"
    },
    {
     "data": {
      "text/html": [
       "<img src=\"https://media2.giphy.com/media/3o7builxtt3jdpnSYE/giphy.gif?cid=e1bb72ff5b4f2efb375959552ecb3618\">"
      ],
      "text/plain": [
       "<IPython.core.display.HTML object>"
      ]
     },
     "metadata": {},
     "output_type": "display_data"
    },
    {
     "data": {
      "text/html": [
       "<img src=\"https://media1.giphy.com/media/RHZYRbadYIS9W/giphy.gif?cid=e1bb72ff5b4f2efb375959552ecb3618\">"
      ],
      "text/plain": [
       "<IPython.core.display.HTML object>"
      ]
     },
     "metadata": {},
     "output_type": "display_data"
    },
    {
     "data": {
      "text/html": [
       "<img src=\"https://media0.giphy.com/media/3o7aDdi8qXzOKF9woE/giphy.gif?cid=e1bb72ff5b4f2efb375959552ecb3618\">"
      ],
      "text/plain": [
       "<IPython.core.display.HTML object>"
      ]
     },
     "metadata": {},
     "output_type": "display_data"
    },
    {
     "data": {
      "text/html": [
       "<img src=\"https://media1.giphy.com/media/h0plYpsR9hXlm/giphy.gif?cid=e1bb72ff5b4f2efb375959552ecb3618\">"
      ],
      "text/plain": [
       "<IPython.core.display.HTML object>"
      ]
     },
     "metadata": {},
     "output_type": "display_data"
    },
    {
     "data": {
      "text/html": [
       "<img src=\"https://media1.giphy.com/media/10uZMTNyvNIcZW/giphy.gif?cid=e1bb72ff5b4f2efb375959552ecb3618\">"
      ],
      "text/plain": [
       "<IPython.core.display.HTML object>"
      ]
     },
     "metadata": {},
     "output_type": "display_data"
    },
    {
     "data": {
      "text/html": [
       "<img src=\"https://media1.giphy.com/media/3o7qDRvhnf03wPzP5C/giphy.gif?cid=e1bb72ff5b4f2efb375959552ecb3618\">"
      ],
      "text/plain": [
       "<IPython.core.display.HTML object>"
      ]
     },
     "metadata": {},
     "output_type": "display_data"
    },
    {
     "data": {
      "text/html": [
       "<h1>Alles Gute zum Geburtstag</h1>"
      ],
      "text/plain": [
       "<IPython.core.display.HTML object>"
      ]
     },
     "metadata": {},
     "output_type": "display_data"
    },
    {
     "data": {
      "text/html": [
       "<img src=\"https://media3.giphy.com/media/3o6ZtgAimyyR125Aqc/giphy.gif?cid=e1bb72ff5b4f395e2f4c6b566fa9cf2f\">"
      ],
      "text/plain": [
       "<IPython.core.display.HTML object>"
      ]
     },
     "metadata": {},
     "output_type": "display_data"
    },
    {
     "data": {
      "text/html": [
       "<img src=\"https://media0.giphy.com/media/l3q2GQkSfTGp1reb6/giphy.gif?cid=e1bb72ff5b4f395e2f4c6b566fa9cf2f\">"
      ],
      "text/plain": [
       "<IPython.core.display.HTML object>"
      ]
     },
     "metadata": {},
     "output_type": "display_data"
    },
    {
     "data": {
      "text/html": [
       "<img src=\"https://media0.giphy.com/media/5GLXjdq6DjSW4/giphy.gif?cid=e1bb72ff5b4f395e2f4c6b566fa9cf2f\">"
      ],
      "text/plain": [
       "<IPython.core.display.HTML object>"
      ]
     },
     "metadata": {},
     "output_type": "display_data"
    },
    {
     "data": {
      "text/html": [
       "<img src=\"https://media1.giphy.com/media/ngkO5NNjHFata/giphy.gif?cid=e1bb72ff5b4f395e2f4c6b566fa9cf2f\">"
      ],
      "text/plain": [
       "<IPython.core.display.HTML object>"
      ]
     },
     "metadata": {},
     "output_type": "display_data"
    },
    {
     "data": {
      "text/html": [
       "<img src=\"https://media1.giphy.com/media/OZmC1mr7O1lba/giphy.gif?cid=e1bb72ff5b4f395e2f4c6b566fa9cf2f\">"
      ],
      "text/plain": [
       "<IPython.core.display.HTML object>"
      ]
     },
     "metadata": {},
     "output_type": "display_data"
    },
    {
     "data": {
      "text/html": [
       "<img src=\"https://media3.giphy.com/media/tesOpJlQwEjQs/giphy.gif?cid=e1bb72ff5b4f395e2f4c6b566fa9cf2f\">"
      ],
      "text/plain": [
       "<IPython.core.display.HTML object>"
      ]
     },
     "metadata": {},
     "output_type": "display_data"
    },
    {
     "data": {
      "text/html": [
       "<img src=\"https://media0.giphy.com/media/LtmXWnWro1wL6/giphy.gif?cid=e1bb72ff5b4f395e2f4c6b566fa9cf2f\">"
      ],
      "text/plain": [
       "<IPython.core.display.HTML object>"
      ]
     },
     "metadata": {},
     "output_type": "display_data"
    },
    {
     "data": {
      "text/html": [
       "<img src=\"https://media1.giphy.com/media/7yojoQtevjOCI/giphy.gif?cid=e1bb72ff5b4f395e2f4c6b566fa9cf2f\">"
      ],
      "text/plain": [
       "<IPython.core.display.HTML object>"
      ]
     },
     "metadata": {},
     "output_type": "display_data"
    },
    {
     "data": {
      "text/html": [
       "<img src=\"https://media2.giphy.com/media/12DSZ5CiemzWRW/giphy.gif?cid=e1bb72ff5b4f395e2f4c6b566fa9cf2f\">"
      ],
      "text/plain": [
       "<IPython.core.display.HTML object>"
      ]
     },
     "metadata": {},
     "output_type": "display_data"
    },
    {
     "data": {
      "text/html": [
       "<img src=\"https://media2.giphy.com/media/3NqNLSjKmSUPm/giphy.gif?cid=e1bb72ff5b4f395e2f4c6b566fa9cf2f\">"
      ],
      "text/plain": [
       "<IPython.core.display.HTML object>"
      ]
     },
     "metadata": {},
     "output_type": "display_data"
    },
    {
     "data": {
      "text/html": [
       "<h1>Buon compleanno</h1>"
      ],
      "text/plain": [
       "<IPython.core.display.HTML object>"
      ]
     },
     "metadata": {},
     "output_type": "display_data"
    },
    {
     "data": {
      "text/html": [
       "<img src=\"https://media1.giphy.com/media/EsYlEcM97pI7m/giphy.gif?cid=e1bb72ff5b4f3a016176336a4121386c\">"
      ],
      "text/plain": [
       "<IPython.core.display.HTML object>"
      ]
     },
     "metadata": {},
     "output_type": "display_data"
    },
    {
     "data": {
      "text/html": [
       "<img src=\"https://media3.giphy.com/media/1zwYsXxsm9iGQ/giphy.gif?cid=e1bb72ff5b4f3a016176336a4121386c\">"
      ],
      "text/plain": [
       "<IPython.core.display.HTML object>"
      ]
     },
     "metadata": {},
     "output_type": "display_data"
    },
    {
     "data": {
      "text/html": [
       "<img src=\"https://media0.giphy.com/media/uxULzS5i4qSrK/giphy.gif?cid=e1bb72ff5b4f3a016176336a4121386c\">"
      ],
      "text/plain": [
       "<IPython.core.display.HTML object>"
      ]
     },
     "metadata": {},
     "output_type": "display_data"
    },
    {
     "data": {
      "text/html": [
       "<img src=\"https://media3.giphy.com/media/1pmshs1nhMFPi/giphy.gif?cid=e1bb72ff5b4f3a016176336a4121386c\">"
      ],
      "text/plain": [
       "<IPython.core.display.HTML object>"
      ]
     },
     "metadata": {},
     "output_type": "display_data"
    },
    {
     "data": {
      "text/html": [
       "<img src=\"https://media3.giphy.com/media/8b5iPdCWWGV4k/giphy.gif?cid=e1bb72ff5b4f3a016176336a4121386c\">"
      ],
      "text/plain": [
       "<IPython.core.display.HTML object>"
      ]
     },
     "metadata": {},
     "output_type": "display_data"
    },
    {
     "data": {
      "text/html": [
       "<img src=\"https://media3.giphy.com/media/LOF8QyYinXMZy/giphy.gif?cid=e1bb72ff5b4f3a016176336a4121386c\">"
      ],
      "text/plain": [
       "<IPython.core.display.HTML object>"
      ]
     },
     "metadata": {},
     "output_type": "display_data"
    },
    {
     "data": {
      "text/html": [
       "<img src=\"https://media0.giphy.com/media/B0C2eUtf8UU48/giphy.gif?cid=e1bb72ff5b4f3a016176336a4121386c\">"
      ],
      "text/plain": [
       "<IPython.core.display.HTML object>"
      ]
     },
     "metadata": {},
     "output_type": "display_data"
    },
    {
     "data": {
      "text/html": [
       "<img src=\"https://media0.giphy.com/media/Y8Z4aqavVEfQY/giphy.gif?cid=e1bb72ff5b4f3a016176336a4121386c\">"
      ],
      "text/plain": [
       "<IPython.core.display.HTML object>"
      ]
     },
     "metadata": {},
     "output_type": "display_data"
    },
    {
     "data": {
      "text/html": [
       "<img src=\"https://media3.giphy.com/media/dTLwmWgEZMMRq/giphy.gif?cid=e1bb72ff5b4f3a016176336a4121386c\">"
      ],
      "text/plain": [
       "<IPython.core.display.HTML object>"
      ]
     },
     "metadata": {},
     "output_type": "display_data"
    },
    {
     "data": {
      "text/html": [
       "<img src=\"https://media0.giphy.com/media/P7YSD7NtUj4g8/giphy.gif?cid=e1bb72ff5b4f3a016176336a4121386c\">"
      ],
      "text/plain": [
       "<IPython.core.display.HTML object>"
      ]
     },
     "metadata": {},
     "output_type": "display_data"
    },
    {
     "data": {
      "text/html": [
       "<h1>С днем ​​рождения</h1>"
      ],
      "text/plain": [
       "<IPython.core.display.HTML object>"
      ]
     },
     "metadata": {},
     "output_type": "display_data"
    },
    {
     "data": {
      "text/html": [
       "<h1>Feliz cumpleaños</h1>"
      ],
      "text/plain": [
       "<IPython.core.display.HTML object>"
      ]
     },
     "metadata": {},
     "output_type": "display_data"
    },
    {
     "data": {
      "text/html": [
       "<img src=\"https://media0.giphy.com/media/eKYPgtdPiJDKE/giphy.gif?cid=e1bb72ff5b4f2f45456938386ff7c8f8\">"
      ],
      "text/plain": [
       "<IPython.core.display.HTML object>"
      ]
     },
     "metadata": {},
     "output_type": "display_data"
    },
    {
     "data": {
      "text/html": [
       "<img src=\"https://media2.giphy.com/media/7ZLX1shCKcLdu/giphy.gif?cid=e1bb72ff5b4f2f45456938386ff7c8f8\">"
      ],
      "text/plain": [
       "<IPython.core.display.HTML object>"
      ]
     },
     "metadata": {},
     "output_type": "display_data"
    },
    {
     "data": {
      "text/html": [
       "<img src=\"https://media3.giphy.com/media/3o6gfZixgbNIhgbIGs/giphy.gif?cid=e1bb72ff5b4f2f45456938386ff7c8f8\">"
      ],
      "text/plain": [
       "<IPython.core.display.HTML object>"
      ]
     },
     "metadata": {},
     "output_type": "display_data"
    },
    {
     "data": {
      "text/html": [
       "<img src=\"https://media2.giphy.com/media/l1J3AKYbwNzIijoCA/giphy.gif?cid=e1bb72ff5b4f2f45456938386ff7c8f8\">"
      ],
      "text/plain": [
       "<IPython.core.display.HTML object>"
      ]
     },
     "metadata": {},
     "output_type": "display_data"
    },
    {
     "data": {
      "text/html": [
       "<img src=\"https://media1.giphy.com/media/wlXJzjGu2ep2M/giphy.gif?cid=e1bb72ff5b4f2f45456938386ff7c8f8\">"
      ],
      "text/plain": [
       "<IPython.core.display.HTML object>"
      ]
     },
     "metadata": {},
     "output_type": "display_data"
    },
    {
     "data": {
      "text/html": [
       "<img src=\"https://media3.giphy.com/media/tvjKUVpWQtuUw/giphy.gif?cid=e1bb72ff5b4f2f45456938386ff7c8f8\">"
      ],
      "text/plain": [
       "<IPython.core.display.HTML object>"
      ]
     },
     "metadata": {},
     "output_type": "display_data"
    },
    {
     "data": {
      "text/html": [
       "<img src=\"https://media3.giphy.com/media/11LbyBrT3XCeic/giphy.gif?cid=e1bb72ff5b4f2f45456938386ff7c8f8\">"
      ],
      "text/plain": [
       "<IPython.core.display.HTML object>"
      ]
     },
     "metadata": {},
     "output_type": "display_data"
    },
    {
     "data": {
      "text/html": [
       "<img src=\"https://media2.giphy.com/media/3o7builxtt3jdpnSYE/giphy.gif?cid=e1bb72ff5b4f2f45456938386ff7c8f8\">"
      ],
      "text/plain": [
       "<IPython.core.display.HTML object>"
      ]
     },
     "metadata": {},
     "output_type": "display_data"
    },
    {
     "data": {
      "text/html": [
       "<img src=\"https://media1.giphy.com/media/RHZYRbadYIS9W/giphy.gif?cid=e1bb72ff5b4f2f45456938386ff7c8f8\">"
      ],
      "text/plain": [
       "<IPython.core.display.HTML object>"
      ]
     },
     "metadata": {},
     "output_type": "display_data"
    },
    {
     "data": {
      "text/html": [
       "<img src=\"https://media0.giphy.com/media/3o7aDdi8qXzOKF9woE/giphy.gif?cid=e1bb72ff5b4f2f45456938386ff7c8f8\">"
      ],
      "text/plain": [
       "<IPython.core.display.HTML object>"
      ]
     },
     "metadata": {},
     "output_type": "display_data"
    },
    {
     "data": {
      "text/html": [
       "<h1>Joyeux anniversaire</h1>"
      ],
      "text/plain": [
       "<IPython.core.display.HTML object>"
      ]
     },
     "metadata": {},
     "output_type": "display_data"
    },
    {
     "data": {
      "text/html": [
       "<img src=\"https://media2.giphy.com/media/8ZSvH2MUcdlOU/giphy.gif?cid=e1bb72ff5b4f2f4779776b4d453057ef\">"
      ],
      "text/plain": [
       "<IPython.core.display.HTML object>"
      ]
     },
     "metadata": {},
     "output_type": "display_data"
    },
    {
     "data": {
      "text/html": [
       "<img src=\"https://media2.giphy.com/media/jIvoOuuMsDaUXgSZWY/giphy.gif?cid=e1bb72ff5b4f2f4779776b4d453057ef\">"
      ],
      "text/plain": [
       "<IPython.core.display.HTML object>"
      ]
     },
     "metadata": {},
     "output_type": "display_data"
    },
    {
     "data": {
      "text/html": [
       "<img src=\"https://media1.giphy.com/media/3o6vY4CqqcVd5VfBG8/giphy.gif?cid=e1bb72ff5b4f2f4779776b4d453057ef\">"
      ],
      "text/plain": [
       "<IPython.core.display.HTML object>"
      ]
     },
     "metadata": {},
     "output_type": "display_data"
    },
    {
     "data": {
      "text/html": [
       "<img src=\"https://media0.giphy.com/media/9lsyTzVhU9kfS/giphy.gif?cid=e1bb72ff5b4f2f4779776b4d453057ef\">"
      ],
      "text/plain": [
       "<IPython.core.display.HTML object>"
      ]
     },
     "metadata": {},
     "output_type": "display_data"
    },
    {
     "data": {
      "text/html": [
       "<img src=\"https://media0.giphy.com/media/3ornk2sXLWCzAysfOE/giphy.gif?cid=e1bb72ff5b4f2f4779776b4d453057ef\">"
      ],
      "text/plain": [
       "<IPython.core.display.HTML object>"
      ]
     },
     "metadata": {},
     "output_type": "display_data"
    },
    {
     "data": {
      "text/html": [
       "<img src=\"https://media0.giphy.com/media/Mt4ChbHf8t8Ri/giphy.gif?cid=e1bb72ff5b4f2f4779776b4d453057ef\">"
      ],
      "text/plain": [
       "<IPython.core.display.HTML object>"
      ]
     },
     "metadata": {},
     "output_type": "display_data"
    },
    {
     "data": {
      "text/html": [
       "<img src=\"https://media1.giphy.com/media/2oYzYN9a9iAZG/giphy.gif?cid=e1bb72ff5b4f2f4779776b4d453057ef\">"
      ],
      "text/plain": [
       "<IPython.core.display.HTML object>"
      ]
     },
     "metadata": {},
     "output_type": "display_data"
    },
    {
     "data": {
      "text/html": [
       "<img src=\"https://media3.giphy.com/media/doxY7YP0tyily/giphy.gif?cid=e1bb72ff5b4f2f4779776b4d453057ef\">"
      ],
      "text/plain": [
       "<IPython.core.display.HTML object>"
      ]
     },
     "metadata": {},
     "output_type": "display_data"
    },
    {
     "data": {
      "text/html": [
       "<img src=\"https://media2.giphy.com/media/us5jbbuaflfnG/giphy.gif?cid=e1bb72ff5b4f2f4779776b4d453057ef\">"
      ],
      "text/plain": [
       "<IPython.core.display.HTML object>"
      ]
     },
     "metadata": {},
     "output_type": "display_data"
    },
    {
     "data": {
      "text/html": [
       "<img src=\"https://media1.giphy.com/media/yF8VtKHqkuoEw/giphy.gif?cid=e1bb72ff5b4f2f4779776b4d453057ef\">"
      ],
      "text/plain": [
       "<IPython.core.display.HTML object>"
      ]
     },
     "metadata": {},
     "output_type": "display_data"
    },
    {
     "data": {
      "text/html": [
       "<h1>ハッピーバースデー</h1>"
      ],
      "text/plain": [
       "<IPython.core.display.HTML object>"
      ]
     },
     "metadata": {},
     "output_type": "display_data"
    },
    {
     "data": {
      "text/html": [
       "<img src=\"https://media0.giphy.com/media/l1BgT1rs5YTOzvMHu/giphy.gif?cid=e1bb72ff5b4f2f4e4d69593849edf7d6\">"
      ],
      "text/plain": [
       "<IPython.core.display.HTML object>"
      ]
     },
     "metadata": {},
     "output_type": "display_data"
    },
    {
     "data": {
      "text/html": [
       "<img src=\"https://media2.giphy.com/media/26xBzGOZ4MUr6D4ty/giphy.gif?cid=e1bb72ff5b4f2f4e4d69593849edf7d6\">"
      ],
      "text/plain": [
       "<IPython.core.display.HTML object>"
      ]
     },
     "metadata": {},
     "output_type": "display_data"
    },
    {
     "data": {
      "text/html": [
       "<img src=\"https://media3.giphy.com/media/3o7TKGYmeY2kDqhdU4/giphy.gif?cid=e1bb72ff5b4f2f4e4d69593849edf7d6\">"
      ],
      "text/plain": [
       "<IPython.core.display.HTML object>"
      ]
     },
     "metadata": {},
     "output_type": "display_data"
    },
    {
     "data": {
      "text/html": [
       "<img src=\"https://media0.giphy.com/media/3oEhmYF6odMw0goUEM/giphy.gif?cid=e1bb72ff5b4f2f4e4d69593849edf7d6\">"
      ],
      "text/plain": [
       "<IPython.core.display.HTML object>"
      ]
     },
     "metadata": {},
     "output_type": "display_data"
    },
    {
     "data": {
      "text/html": [
       "<img src=\"https://media1.giphy.com/media/xUA7aQOfOFZyC4qvZe/giphy.gif?cid=e1bb72ff5b4f2f4e4d69593849edf7d6\">"
      ],
      "text/plain": [
       "<IPython.core.display.HTML object>"
      ]
     },
     "metadata": {},
     "output_type": "display_data"
    },
    {
     "data": {
      "text/html": [
       "<img src=\"https://media2.giphy.com/media/l0MYDMt4Iyp1R84fu/giphy.gif?cid=e1bb72ff5b4f2f4e4d69593849edf7d6\">"
      ],
      "text/plain": [
       "<IPython.core.display.HTML object>"
      ]
     },
     "metadata": {},
     "output_type": "display_data"
    },
    {
     "data": {
      "text/html": [
       "<img src=\"https://media1.giphy.com/media/3o7btWvqXeShFxXKgg/giphy.gif?cid=e1bb72ff5b4f2f4e4d69593849edf7d6\">"
      ],
      "text/plain": [
       "<IPython.core.display.HTML object>"
      ]
     },
     "metadata": {},
     "output_type": "display_data"
    },
    {
     "data": {
      "text/html": [
       "<img src=\"https://media1.giphy.com/media/3o7btMFkN7sBLWikhy/giphy.gif?cid=e1bb72ff5b4f2f4e4d69593849edf7d6\">"
      ],
      "text/plain": [
       "<IPython.core.display.HTML object>"
      ]
     },
     "metadata": {},
     "output_type": "display_data"
    },
    {
     "data": {
      "text/html": [
       "<img src=\"https://media1.giphy.com/media/XRWPkTfSZg9oY/giphy.gif?cid=e1bb72ff5b4f2f4e4d69593849edf7d6\">"
      ],
      "text/plain": [
       "<IPython.core.display.HTML object>"
      ]
     },
     "metadata": {},
     "output_type": "display_data"
    },
    {
     "data": {
      "text/html": [
       "<img src=\"https://media0.giphy.com/media/xKkrfUUg2vT44/giphy.gif?cid=e1bb72ff5b4f2f4e4d69593849edf7d6\">"
      ],
      "text/plain": [
       "<IPython.core.display.HTML object>"
      ]
     },
     "metadata": {},
     "output_type": "display_data"
    }
   ],
   "source": [
    "for palavra in minhasPalavras:\n",
    "    for lingua in linguas:\n",
    "        t =translator.translate(palavra,dest=lingua)\n",
    "        busca = t.text\n",
    "        display(HTML('<h1>{}</h1>'.format(busca)))\n",
    "        f.write('<h3>{}</h3><br/>\\n'.format(busca))\n",
    "        results = [x for x in g.search(phrase=busca,limit=10)]\n",
    "        for result in results:\n",
    "            display(HTML('<img src=\"{}\">'.format(result.media_url)))\n",
    "            f.write('<img src=\"{}\">\\n'.format(result.media_url))\n",
    "\n",
    "f.close()"
   ]
  },
  {
   "cell_type": "code",
   "execution_count": null,
   "metadata": {
    "collapsed": true
   },
   "outputs": [],
   "source": []
  }
 ],
 "metadata": {
  "kernelspec": {
   "display_name": "Python 3",
   "language": "python",
   "name": "python3"
  },
  "language_info": {
   "codemirror_mode": {
    "name": "ipython",
    "version": 3
   },
   "file_extension": ".py",
   "mimetype": "text/x-python",
   "name": "python",
   "nbconvert_exporter": "python",
   "pygments_lexer": "ipython3",
   "version": "3.6.1"
  }
 },
 "nbformat": 4,
 "nbformat_minor": 2
}
