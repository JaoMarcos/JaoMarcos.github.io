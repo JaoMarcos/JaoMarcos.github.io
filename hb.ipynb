{
 "cells": [
  {
   "cell_type": "code",
   "execution_count": 1,
   "metadata": {},
   "outputs": [
    {
     "name": "stdout",
     "output_type": "stream",
     "text": [
      "Requirement already satisfied: requests in /home/jmarcos/anaconda3/lib/python3.6/site-packages\n",
      "Requirement already satisfied: giphypop in /home/jmarcos/anaconda3/lib/python3.6/site-packages\n",
      "Requirement already satisfied: googletrans in /home/jmarcos/anaconda3/lib/python3.6/site-packages\n",
      "Requirement already satisfied: urllib3<1.23,>=1.21.1 in /home/jmarcos/anaconda3/lib/python3.6/site-packages (from requests)\n",
      "Requirement already satisfied: certifi>=2017.4.17 in /home/jmarcos/anaconda3/lib/python3.6/site-packages (from requests)\n",
      "Requirement already satisfied: idna<2.7,>=2.5 in /home/jmarcos/anaconda3/lib/python3.6/site-packages (from requests)\n",
      "Requirement already satisfied: chardet<3.1.0,>=3.0.2 in /home/jmarcos/anaconda3/lib/python3.6/site-packages (from requests)\n",
      "\u001b[33mYou are using pip version 9.0.1, however version 10.0.1 is available.\n",
      "You should consider upgrading via the 'pip install --upgrade pip' command.\u001b[0m\n"
     ]
    }
   ],
   "source": [
    "!pip install requests giphypop googletrans"
   ]
  },
  {
   "cell_type": "code",
   "execution_count": 1,
   "metadata": {},
   "outputs": [
    {
     "name": "stderr",
     "output_type": "stream",
     "text": [
      "/home/jmarcos/anaconda3/lib/python3.6/site-packages/giphypop.py:241: UserWarning: You are using the giphy public api key. This should be used for testing only and may be deactivated in the future. See https://github.com/Giphy/GiphyAPI.\n",
      "  warnings.warn('You are using the giphy public api key. This '\n"
     ]
    }
   ],
   "source": [
    "import giphypop\n",
    "from IPython.core.display import display, HTML\n",
    "from googletrans import Translator\n",
    "g = giphypop.Giphy()\n",
    "translator = Translator()"
   ]
  },
  {
   "cell_type": "code",
   "execution_count": 2,
   "metadata": {
    "collapsed": true
   },
   "outputs": [],
   "source": [
    "minhasPalavras = ['Feliz aniversário']\n",
    "linguas = ['en','pt','de','it','ru','es','fr','ja']\n",
    "remove = ['https://media1.giphy.com/media/3o6vY4CqqcVd5VfBG8/giphy.gif?cid=e1bb72ff5b4f2f4779776b4d453057ef',\n",
    "         'https://media1.giphy.com/media/RHZYRbadYIS9W/giphy.gif?cid=e1bb72ff5b4f2f45456938386ff7c8f8']"
   ]
  },
  {
   "cell_type": "code",
   "execution_count": 6,
   "metadata": {},
   "outputs": [
    {
     "data": {
      "text/plain": [
       "63"
      ]
     },
     "execution_count": 6,
     "metadata": {},
     "output_type": "execute_result"
    }
   ],
   "source": [
    "f= open(\"parabenscarol.html\",\"w+\")\n",
    "f.write('<h1 align=\"center\">FELIZ ANIVERSÁRIO MINHA MENINA =]</h1><br/>\\n')"
   ]
  },
  {
   "cell_type": "code",
   "execution_count": 7,
   "metadata": {},
   "outputs": [
    {
     "data": {
      "text/html": [
       "<h1>Happy Birthday</h1>"
      ],
      "text/plain": [
       "<IPython.core.display.HTML object>"
      ]
     },
     "metadata": {},
     "output_type": "display_data"
    },
    {
     "name": "stderr",
     "output_type": "stream",
     "text": [
      "/home/jmarcos/anaconda3/lib/python3.6/site-packages/ipykernel_launcher.py:7: DeprecationWarning: generator 'Giphy.search' raised StopIteration\n",
      "  import sys\n"
     ]
    },
    {
     "data": {
      "text/html": [
       "<h1>Feliz aniversário</h1>"
      ],
      "text/plain": [
       "<IPython.core.display.HTML object>"
      ]
     },
     "metadata": {},
     "output_type": "display_data"
    },
    {
     "data": {
      "text/html": [
       "<h1>Alles Gute zum Geburtstag</h1>"
      ],
      "text/plain": [
       "<IPython.core.display.HTML object>"
      ]
     },
     "metadata": {},
     "output_type": "display_data"
    },
    {
     "data": {
      "text/html": [
       "<h1>Buon compleanno</h1>"
      ],
      "text/plain": [
       "<IPython.core.display.HTML object>"
      ]
     },
     "metadata": {},
     "output_type": "display_data"
    },
    {
     "data": {
      "text/html": [
       "<h1>С днем ​​рождения</h1>"
      ],
      "text/plain": [
       "<IPython.core.display.HTML object>"
      ]
     },
     "metadata": {},
     "output_type": "display_data"
    },
    {
     "data": {
      "text/html": [
       "<h1>Feliz cumpleaños</h1>"
      ],
      "text/plain": [
       "<IPython.core.display.HTML object>"
      ]
     },
     "metadata": {},
     "output_type": "display_data"
    },
    {
     "data": {
      "text/html": [
       "<h1>Joyeux anniversaire</h1>"
      ],
      "text/plain": [
       "<IPython.core.display.HTML object>"
      ]
     },
     "metadata": {},
     "output_type": "display_data"
    },
    {
     "data": {
      "text/html": [
       "<h1>ハッピーバースデー</h1>"
      ],
      "text/plain": [
       "<IPython.core.display.HTML object>"
      ]
     },
     "metadata": {},
     "output_type": "display_data"
    }
   ],
   "source": [
    "for palavra in minhasPalavras:\n",
    "    for lingua in linguas:\n",
    "        t =translator.translate(palavra,dest=lingua)\n",
    "        busca = t.text\n",
    "        display(HTML('<h1>{}</h1>'.format(busca)))\n",
    "        f.write('<h3>{}</h3><br/>\\n'.format(busca))\n",
    "        results = [x for x in g.search(phrase=busca,limit=15)]\n",
    "        for result in results:\n",
    "            if result.media_url not in remove:\n",
    "#                 display(HTML('<img src=\"{}\">'.format(result.media_url)))\n",
    "                f.write('<img src=\"{}\">\\n'.format(result.media_url))\n",
    "\n",
    "f.close()"
   ]
  },
  {
   "cell_type": "code",
   "execution_count": null,
   "metadata": {
    "collapsed": true
   },
   "outputs": [],
   "source": []
  }
 ],
 "metadata": {
  "kernelspec": {
   "display_name": "Python 3",
   "language": "python",
   "name": "python3"
  },
  "language_info": {
   "codemirror_mode": {
    "name": "ipython",
    "version": 3
   },
   "file_extension": ".py",
   "mimetype": "text/x-python",
   "name": "python",
   "nbconvert_exporter": "python",
   "pygments_lexer": "ipython3",
   "version": "3.6.1"
  }
 },
 "nbformat": 4,
 "nbformat_minor": 2
}
